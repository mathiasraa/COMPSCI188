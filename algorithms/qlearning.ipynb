{
 "cells": [
  {
   "cell_type": "code",
   "execution_count": 67,
   "metadata": {},
   "outputs": [
    {
     "name": "stdout",
     "output_type": "stream",
     "text": [
      "10.0 10.0 0 0\n"
     ]
    }
   ],
   "source": [
    "import numpy as np\n",
    "\n",
    "alpha_values = np.linspace(1,1,10000000)\n",
    "Q1 = 0\n",
    "Q2 = 0\n",
    "Q3 = 0\n",
    "Q4 = 0\n",
    "\n",
    "# for alpha in alpha_values:\n",
    "#     Q1 = (1-alpha)*Q1+alpha*(0+Q2)\n",
    "#     Q2 = (1-alpha)*Q2+alpha*(0+max(Q4,Q3,Q1))\n",
    "#     Q3 = (1-alpha)*Q3+alpha*(1+0)\n",
    "#     Q4 = (1-alpha)*Q4+alpha*(10+0)\n",
    "\n",
    "# for alpha in alpha_values:\n",
    "#     Q1 = (1-alpha)*Q1+alpha*(0+Q2)\n",
    "#     Q2 = (1-alpha)*Q2+alpha*(0+max(Q4,Q3))\n",
    "#     Q3 = (1-alpha)*Q3+alpha*(1+0)\n",
    "#     Q4 = (1-alpha)*Q4+alpha*(10+0)\n",
    "\n",
    "for alpha in alpha_values:\n",
    "    Q2 = (1-alpha)*Q2+alpha*(0+Q1)\n",
    "    Q1 = (1-alpha)*Q1+alpha*(0+1)\n",
    "\n",
    "    Q2 = (1-alpha)*Q2+alpha*(0+Q1)\n",
    "    Q1 = (1-alpha)*Q1+alpha*(0+10)\n",
    "\n",
    "    Q2 = (1-alpha)*Q2+alpha*(0+Q1)\n",
    "    Q1 = (1-alpha)*Q1+alpha*(0+10)\n",
    "\n",
    "print(Q1, Q2, Q3, Q4)"
   ]
  },
  {
   "cell_type": "code",
   "execution_count": 93,
   "metadata": {},
   "outputs": [
    {
     "name": "stdout",
     "output_type": "stream",
     "text": [
      "2.4000000000000004\n"
     ]
    }
   ],
   "source": [
    "val = 2\n",
    "res = 0\n",
    "test = 1\n",
    "\n",
    "for _ in range(500):\n",
    "    res += val\n",
    "    val *= 0.5 * test\n",
    "    test *= -1\n",
    "\n",
    "print(res)"
   ]
  }
 ],
 "metadata": {
  "kernelspec": {
   "display_name": "Python 3.6.13 ('3.6')",
   "language": "python",
   "name": "python3"
  },
  "language_info": {
   "codemirror_mode": {
    "name": "ipython",
    "version": 3
   },
   "file_extension": ".py",
   "mimetype": "text/x-python",
   "name": "python",
   "nbconvert_exporter": "python",
   "pygments_lexer": "ipython3",
   "version": "3.6.13"
  },
  "orig_nbformat": 4,
  "vscode": {
   "interpreter": {
    "hash": "659c33e4a742ef96c58521ddd5a4f84f0e89037fb1ada7b55c00f17685341040"
   }
  }
 },
 "nbformat": 4,
 "nbformat_minor": 2
}
