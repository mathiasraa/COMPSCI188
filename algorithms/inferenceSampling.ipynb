{
 "cells": [
  {
   "cell_type": "code",
   "execution_count": 193,
   "metadata": {},
   "outputs": [
    {
     "name": "stdout",
     "output_type": "stream",
     "text": [
      "10000000\n",
      "0.0\n"
     ]
    }
   ],
   "source": [
    "import random\n",
    "\n",
    "# Prior sampling\n",
    "def get_t():\n",
    "    if random.random() < 0.99:\n",
    "        return True\n",
    "    return False\n",
    "\n",
    "def get_c(t):\n",
    "    if t and random.random() < 0.95:\n",
    "        return True\n",
    "    return False\n",
    "\n",
    "def get_sample():\n",
    "    t = get_t()\n",
    "    c = get_c(t)\n",
    "\n",
    "    if not t:\n",
    "        return None\n",
    "\n",
    "    return [t, c]\n",
    "\n",
    "# Collect 10000 samples\n",
    "samples = [get_sample() for _ in range(100000)]\n",
    "\n",
    "t = len([sample for sample in samples if not sample[0] and sample[1]]) /len(samples)\n",
    "print(t)"
   ]
  }
 ],
 "metadata": {
  "kernelspec": {
   "display_name": "Python 3.9.12 ('base')",
   "language": "python",
   "name": "python3"
  },
  "language_info": {
   "codemirror_mode": {
    "name": "ipython",
    "version": 3
   },
   "file_extension": ".py",
   "mimetype": "text/x-python",
   "name": "python",
   "nbconvert_exporter": "python",
   "pygments_lexer": "ipython3",
   "version": "3.9.12"
  },
  "orig_nbformat": 4,
  "vscode": {
   "interpreter": {
    "hash": "9f30160c6881e030b7f273e218d521f55c341ec5677cc10a2ea0e4f565a96ba7"
   }
  }
 },
 "nbformat": 4,
 "nbformat_minor": 2
}
