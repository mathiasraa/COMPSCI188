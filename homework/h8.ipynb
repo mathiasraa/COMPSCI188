{
 "cells": [
  {
   "cell_type": "code",
   "execution_count": 9,
   "metadata": {},
   "outputs": [
    {
     "name": "stdout",
     "output_type": "stream",
     "text": [
      "dict_keys(['a', 'b', 'c', 'd'])\n"
     ]
    }
   ],
   "source": [
    "import random\n",
    "\n",
    "dist = {}\n",
    "\n",
    "dist['a'] = 1\n",
    "dist['b'] = 2\n",
    "dist['c'] = 2\n",
    "dist['d'] = 0\n",
    "N = 100000.0\n",
    "\n",
    "\n",
    "def sample(dist):\n",
    "    return random.choices(list(dist.keys()), weights=dist.values())\n",
    "\n",
    "samples = sample(dist)\n",
    "\n"
   ]
  }
 ],
 "metadata": {
  "kernelspec": {
   "display_name": "Python 3.10.4 64-bit ('3.10.4')",
   "language": "python",
   "name": "python3"
  },
  "language_info": {
   "codemirror_mode": {
    "name": "ipython",
    "version": 3
   },
   "file_extension": ".py",
   "mimetype": "text/x-python",
   "name": "python",
   "nbconvert_exporter": "python",
   "pygments_lexer": "ipython3",
   "version": "3.10.4"
  },
  "orig_nbformat": 4,
  "vscode": {
   "interpreter": {
    "hash": "a38b574612ddee5d15b38ebf04bfbcf7f14781cebc36b04c86a595fcea34a180"
   }
  }
 },
 "nbformat": 4,
 "nbformat_minor": 2
}
